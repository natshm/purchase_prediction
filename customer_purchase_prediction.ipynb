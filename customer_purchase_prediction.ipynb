{
 "cells": [
  {
   "cell_type": "markdown",
   "metadata": {},
   "source": [
    "# 1 Изучение данных "
   ]
  },
  {
   "cell_type": "markdown",
   "metadata": {},
   "source": [
    "## Загрузка библиотек и чтение данных"
   ]
  },
  {
   "cell_type": "code",
   "execution_count": 1,
   "metadata": {
    "is_executing": true
   },
   "outputs": [],
   "source": [
    "import pandas as pd\n",
    "import numpy as np\n",
    "import seaborn as sns\n",
    "from matplotlib import pyplot as plt\n",
    "\n",
    "from catboost import CatBoostClassifier, Pool, EShapCalcType, EFeaturesSelectionAlgorithm\n",
    "from sklearn.model_selection import GridSearchCV\n",
    "from sklearn.model_selection import train_test_split\n",
    "from catboost.utils import get_gpu_device_count\n",
    "# from sklearn.metrics import (\n",
    "#     confusion_matrix, roc_auc_score, ConfusionMatrixDisplay, roc_curve\n",
    "# )\n",
    "RND_STATE = 42\n",
    "PATH= 'dataset_train.parquet' "
   ]
  },
  {
   "cell_type": "code",
   "execution_count": 2,
   "metadata": {
    "ExecuteTime": {
     "end_time": "2023-10-07T18:48:59.210109600Z",
     "start_time": "2023-10-07T18:48:59.194483400Z"
    }
   },
   "outputs": [],
   "source": [
    "columns = pd.read_json('features_types.json', typ='series')\n",
    "data_columns = pd.DataFrame(columns).reset_index()\n",
    "data_columns.rename(columns = {'index': 'column', 0: 'type'},\n",
    "                    inplace = True)"
   ]
  },
  {
   "cell_type": "code",
   "execution_count": 3,
   "metadata": {
    "ExecuteTime": {
     "end_time": "2023-10-07T18:48:59.272612400Z",
     "start_time": "2023-10-07T18:48:59.210109600Z"
    }
   },
   "outputs": [
    {
     "data": {
      "text/plain": [
       "type\n",
       "numeric            2607\n",
       "categorical_int     138\n",
       "categorical_str      31\n",
       "Name: count, dtype: int64"
      ]
     },
     "execution_count": 3,
     "metadata": {},
     "output_type": "execute_result"
    }
   ],
   "source": [
    "data_columns.type.value_counts()"
   ]
  },
  {
   "cell_type": "code",
   "execution_count": 4,
   "metadata": {},
   "outputs": [
    {
     "data": {
      "text/plain": [
       "2776"
      ]
     },
     "execution_count": 4,
     "metadata": {},
     "output_type": "execute_result"
    }
   ],
   "source": [
    "lst = data_columns.column.tolist()\n",
    "len(lst)"
   ]
  },
  {
   "cell_type": "code",
   "execution_count": 5,
   "metadata": {},
   "outputs": [],
   "source": [
    "def chunker(seq, size):\n",
    "    return (seq[pos:pos + size] for pos in range(0, len(seq), size))"
   ]
  },
  {
   "cell_type": "code",
   "execution_count": 6,
   "metadata": {},
   "outputs": [],
   "source": [
    "# for group in chunker(lst, 100):\n",
    "#     print(len(group))"
   ]
  },
  {
   "cell_type": "code",
   "execution_count": 7,
   "metadata": {},
   "outputs": [],
   "source": [
    "# chunks(lst, 100)"
   ]
  },
  {
   "cell_type": "code",
   "execution_count": 8,
   "metadata": {
    "editable": true,
    "slideshow": {
     "slide_type": ""
    },
    "tags": []
   },
   "outputs": [],
   "source": [
    "def load_parquet_data(path, column_cut):\n",
    "    list_columns = column_cut.column.tolist()\n",
    "    list_columns.insert(0, 'id')\n",
    "    list_columns.insert(1, 'target')\n",
    "    list_columns.insert(2, 'period')\n",
    "    df = pd.read_parquet(path, engine='pyarrow', columns=list_columns)\n",
    "    return list_columns, df\n",
    "    "
   ]
  },
  {
   "cell_type": "code",
   "execution_count": 9,
   "metadata": {},
   "outputs": [],
   "source": [
    " # df_total.info()"
   ]
  },
  {
   "cell_type": "code",
   "execution_count": 10,
   "metadata": {},
   "outputs": [],
   "source": [
    "# %xdel df_total"
   ]
  },
  {
   "cell_type": "markdown",
   "metadata": {},
   "source": [
    "df_total.info()\n",
    "\n",
    "<class 'pandas.core.frame.DataFrame'>\n",
    "\n",
    "RangeIndex: 702086 entries, 0 to 702085\n",
    "\n",
    "Columns: 2779 entries, id to markers_945_1_cnt\n",
    "\n",
    "dtypes: float64(2607), int32(121), int64(31), int8(19), object(1)\n",
    "\n",
    "memory usage: 14.1+ GB"
   ]
  },
  {
   "cell_type": "code",
   "execution_count": 11,
   "metadata": {},
   "outputs": [],
   "source": [
    "# %xdel list_columns_1, part_1"
   ]
  },
  {
   "cell_type": "code",
   "execution_count": 12,
   "metadata": {},
   "outputs": [],
   "source": [
    "# list_columns_1"
   ]
  },
  {
   "cell_type": "markdown",
   "metadata": {},
   "source": [
    "## Первичный обзор"
   ]
  },
  {
   "cell_type": "code",
   "execution_count": 13,
   "metadata": {
    "ExecuteTime": {
     "end_time": "2023-10-07T18:49:00.637495800Z",
     "start_time": "2023-10-07T18:49:00.637495800Z"
    }
   },
   "outputs": [],
   "source": [
    "def initial_overview(data):\n",
    "    display(data.head(2))\n",
    "    data.info()\n",
    "    print(\" - \" * 30)\n",
    "    print(\" \" * 76)\n",
    "    print(\"Явных дубликатов в таблице:\", data.duplicated().sum())\n",
    "    print(\"_\" * 32)\n",
    "    print(\" - \" * 30)\n",
    "    print(\" \" * 76)\n",
    "    print('Уникальных значений по колонкам:')\n",
    "    print(\"_\" * 32)\n",
    "    display(pd.DataFrame(data.nunique()).transpose())\n",
    "    print(\" - \" * 30)\n",
    "    print(\" \" * 76)\n",
    "    print(\"Пропущенных значений по колонкам:\")\n",
    "    print(\"_\" * 32)\n",
    "    for element in data.columns:\n",
    "        if data[element].isna().sum() > 0:\n",
    "            print(element, ' - ', data[element].isna().sum(), 'пропусков, ',\n",
    "                  round(data[element].isna().sum() * 100 / data.shape[0]), '%')\n",
    "        "
   ]
  },
  {
   "cell_type": "code",
   "execution_count": 14,
   "metadata": {
    "ExecuteTime": {
     "end_time": "2023-10-07T18:49:09.581380800Z",
     "start_time": "2023-10-07T18:49:00.637495800Z"
    }
   },
   "outputs": [],
   "source": [
    "# %%time\n",
    "# initial_overview(part_6)"
   ]
  },
  {
   "cell_type": "markdown",
   "metadata": {},
   "source": [
    "## Целевой признак"
   ]
  },
  {
   "cell_type": "code",
   "execution_count": 15,
   "metadata": {
    "ExecuteTime": {
     "end_time": "2023-10-07T18:49:09.731048800Z",
     "start_time": "2023-10-07T18:49:09.581380800Z"
    }
   },
   "outputs": [],
   "source": [
    "def pie_plot(data):\n",
    "    data.target.value_counts().plot.pie(legend=True, labeldistance=1.2, autopct='%1.2f%%', figsize=(3, 3),\n",
    "                                        title='Соотношение классов по факту покупки'\n",
    "                                        )\n",
    "    plt.show()"
   ]
  },
  {
   "cell_type": "code",
   "execution_count": 16,
   "metadata": {},
   "outputs": [],
   "source": [
    "# pie_plot(part_6)"
   ]
  },
  {
   "cell_type": "markdown",
   "metadata": {},
   "source": [
    "## Пропуски\n"
   ]
  },
  {
   "cell_type": "markdown",
   "metadata": {},
   "source": [
    "* Признаки к удалению (с большим числом пропусков (>50%) + с единственным значением):"
   ]
  },
  {
   "cell_type": "code",
   "execution_count": 17,
   "metadata": {},
   "outputs": [],
   "source": [
    "def uninform_data(data):\n",
    "    uninformative_lst = []\n",
    "    for element in data.columns:\n",
    "        if (data[element].isna().sum() * 100 / data.shape[0]) > 50 or data[element].nunique() == 1:\n",
    "            uninformative_lst.append(element)\n",
    "    return uninformative_lst"
   ]
  },
  {
   "cell_type": "code",
   "execution_count": 18,
   "metadata": {
    "is_executing": true
   },
   "outputs": [
    {
     "name": "stdout",
     "output_type": "stream",
     "text": [
      "CPU times: total: 13.5 s\n",
      "Wall time: 1.18 s\n"
     ]
    }
   ],
   "source": [
    "%%time\n",
    "list_columns_1, part_1 = load_parquet_data(PATH, data_columns[:700])  "
   ]
  },
  {
   "cell_type": "code",
   "execution_count": 19,
   "metadata": {},
   "outputs": [
    {
     "name": "stdout",
     "output_type": "stream",
     "text": [
      "CPU times: total: 5.28 s\n",
      "Wall time: 5.29 s\n"
     ]
    },
    {
     "data": {
      "text/plain": [
       "25"
      ]
     },
     "execution_count": 19,
     "metadata": {},
     "output_type": "execute_result"
    }
   ],
   "source": [
    "%%time\n",
    "uninformative_lst_1 = uninform_data(part_1)\n",
    "len(uninformative_lst_1)"
   ]
  },
  {
   "cell_type": "markdown",
   "metadata": {},
   "source": [
    "* Deleting and redefining data sets  (Удаление колонок с большим числом пропусков и  единственным значением, переопределение списка фич):"
   ]
  },
  {
   "cell_type": "code",
   "execution_count": 20,
   "metadata": {
    "is_executing": true
   },
   "outputs": [],
   "source": [
    "def deleting_redefining_data(list_columns: list, uninformative_lst: list) -> list:\n",
    "    redefined_list = list(set(list_columns) - set(uninformative_lst))\n",
    "    data_columns_rdf = data_columns.loc[data_columns['column'].isin(redefined_list)]\n",
    "    return data_columns_rdf"
   ]
  },
  {
   "cell_type": "code",
   "execution_count": 21,
   "metadata": {
    "ExecuteTime": {
     "end_time": "2023-10-07T18:49:12.267868800Z",
     "start_time": "2023-10-07T18:49:12.267868800Z"
    }
   },
   "outputs": [],
   "source": [
    "# # отбрасываем признаки `over_miss_50` и `std = 0`:\n",
    "# list_col_not_miss = list(set(list_columns_6) - set(uninformative_lst_6))\n",
    "# len(list_col_not_miss)\n",
    "\n",
    "# # Переопределяем дата фрейм с признаками для выгрузки\n",
    "# data_columns = data_columns.loc[data_columns['column'].isin(list_col_not_miss)]"
   ]
  },
  {
   "cell_type": "markdown",
   "metadata": {},
   "source": [
    "Переопределение каждого среза фич (всего их 6):"
   ]
  },
  {
   "cell_type": "code",
   "execution_count": 22,
   "metadata": {},
   "outputs": [],
   "source": [
    "rdf_columns_1 = deleting_redefining_data(list_columns_1, uninformative_lst_1)"
   ]
  },
  {
   "cell_type": "code",
   "execution_count": 23,
   "metadata": {},
   "outputs": [
    {
     "data": {
      "text/plain": [
       "type\n",
       "numeric    675\n",
       "Name: count, dtype: int64"
      ]
     },
     "execution_count": 23,
     "metadata": {},
     "output_type": "execute_result"
    }
   ],
   "source": [
    "rdf_columns_1.type.value_counts()"
   ]
  },
  {
   "cell_type": "markdown",
   "metadata": {},
   "source": [
    "### Числовые признаки"
   ]
  },
  {
   "cell_type": "markdown",
   "metadata": {},
   "source": [
    "Отбор списка признаков с типом `numeric`, заполнение числовых признаков медианой:"
   ]
  },
  {
   "cell_type": "code",
   "execution_count": 24,
   "metadata": {},
   "outputs": [],
   "source": [
    "def load_parquet_num(path, rdf_columns):\n",
    "    numeric_type_data = rdf_columns.loc[rdf_columns['type'] == 'numeric']\n",
    "    numeric_type_list = numeric_type_data.column.tolist()\n",
    "    numeric_type_list.insert(0, 'id')\n",
    "    numeric_type_list.insert(1, 'target')\n",
    "    numeric_type_list.insert(2, 'period')\n",
    "    df_num = pd.read_parquet(path, engine='pyarrow', columns=numeric_type_list)\n",
    "    \n",
    "    for column in numeric_type_list:\n",
    "        df_num[column].fillna(df_num[column].median(), inplace=True)\n",
    "    return numeric_type_list, df_num    "
   ]
  },
  {
   "cell_type": "code",
   "execution_count": 25,
   "metadata": {},
   "outputs": [],
   "source": [
    "numeric_type_list_1, df_num_1 = load_parquet_num(PATH, rdf_columns_1)"
   ]
  },
  {
   "cell_type": "markdown",
   "metadata": {},
   "source": [
    "### Категориальные данные"
   ]
  },
  {
   "cell_type": "markdown",
   "metadata": {},
   "source": [
    "список признаков с типом `categorical_int` и `categorical_str`:"
   ]
  },
  {
   "cell_type": "code",
   "execution_count": 26,
   "metadata": {},
   "outputs": [],
   "source": [
    "def load_parquet_cat_str(path, rdf_columns):\n",
    "    cat_type_data = rdf_columns.loc[(rdf_columns['type'] == 'categorical_int') | (rdf_columns['type'] == 'categorical_str')]\n",
    "    cat_type_list = cat_type_data.column.tolist()\n",
    "#     cat_type_list.insert(0, 'id')\n",
    "#     cat_type_list.insert(1, 'target')\n",
    "#     cat_type_list.insert(2, 'period')\n",
    "    df_cat = pd.read_parquet(path, engine='pyarrow', columns=cat_type_list)\n",
    "    return cat_type_list, df_cat"
   ]
  },
  {
   "cell_type": "code",
   "execution_count": 27,
   "metadata": {},
   "outputs": [],
   "source": [
    "cat_type_list_1, df_cat_1 = load_parquet_cat_str(PATH, rdf_columns_1)"
   ]
  },
  {
   "cell_type": "code",
   "execution_count": 28,
   "metadata": {},
   "outputs": [],
   "source": [
    "# initial_overview(df_num_1)"
   ]
  },
  {
   "cell_type": "markdown",
   "metadata": {},
   "source": [
    "**Вывод:**\n",
    "На данном этапе получено 2 датасета:\n",
    "\n",
    "* df_num_6 - с числовыми признаками \n",
    "\n",
    "* df_cat_6 - с категориальными признаками \n",
    "\n",
    "Пропуски в категориальных данных отсутствуют, однако, в признаках с типом `categorical_int`(название заканчивается на _flg) присутствует третье значение: - 1, вероятно, так spark кодирует пропущенные значения."
   ]
  },
  {
   "cell_type": "markdown",
   "metadata": {},
   "source": [
    "### Объединение категориальных и численных признаков в один датасет:"
   ]
  },
  {
   "cell_type": "code",
   "execution_count": 29,
   "metadata": {
    "ExecuteTime": {
     "end_time": "2023-10-07T18:49:25.628189900Z",
     "start_time": "2023-10-07T18:49:25.545718600Z"
    }
   },
   "outputs": [],
   "source": [
    "# print(df_num_6.shape, df_cat_6.shape)"
   ]
  },
  {
   "cell_type": "code",
   "execution_count": 30,
   "metadata": {
    "ExecuteTime": {
     "end_time": "2023-10-07T18:49:25.811677800Z",
     "start_time": "2023-10-07T18:49:25.578153300Z"
    }
   },
   "outputs": [],
   "source": [
    "# df_merge_6 = pd.merge(df_num_6, df_cat_6, left_index=True, right_index=True)"
   ]
  },
  {
   "cell_type": "code",
   "execution_count": 31,
   "metadata": {},
   "outputs": [],
   "source": [
    "df_merge_1 = df_num_1"
   ]
  },
  {
   "cell_type": "code",
   "execution_count": 32,
   "metadata": {},
   "outputs": [],
   "source": [
    "# df_merge_2 = pd.merge(df_num_2, df_cat_2, left_index=True, right_index=True)"
   ]
  },
  {
   "cell_type": "code",
   "execution_count": 33,
   "metadata": {},
   "outputs": [],
   "source": [
    "# df_merge_3 = pd.merge(df_num_3, df_cat_3, left_index=True, right_index=True)"
   ]
  },
  {
   "cell_type": "code",
   "execution_count": 34,
   "metadata": {},
   "outputs": [],
   "source": [
    "# df_merge_4 = pd.merge(df_num_4, df_cat_4, left_index=True, right_index=True)"
   ]
  },
  {
   "cell_type": "code",
   "execution_count": 35,
   "metadata": {},
   "outputs": [],
   "source": [
    "# df_merge_5 = pd.merge(df_num_5, df_cat_5, left_index=True, right_index=True)"
   ]
  },
  {
   "cell_type": "code",
   "execution_count": 36,
   "metadata": {
    "ExecuteTime": {
     "end_time": "2023-10-07T18:49:25.812068800Z",
     "start_time": "2023-10-07T18:49:25.779092Z"
    }
   },
   "outputs": [],
   "source": [
    "# df_merge_1.info()"
   ]
  },
  {
   "cell_type": "code",
   "execution_count": 37,
   "metadata": {
    "scrolled": true
   },
   "outputs": [],
   "source": [
    "# initial_overview(df_merge_6)"
   ]
  },
  {
   "cell_type": "markdown",
   "metadata": {},
   "source": [
    "## 4. Обучение модели CatBoostClassifier"
   ]
  },
  {
   "cell_type": "markdown",
   "metadata": {},
   "source": [
    "Наиболее подходящим способом, в данной ситуации, для выявления важнейших признаков при опредеделении мошенников является ML модель CatBoostClassifier. Она сократит время на настройку параметров, позволит использовать нечисловые факторы вместо предварительной обработки данных, сократит время и усилия на преобразование их в числа. А метоод `catboost select-features` выберет наилучшие фичи из набора данных и избавит от \"вредных\"."
   ]
  },
  {
   "cell_type": "markdown",
   "metadata": {},
   "source": [
    "* Отделение таргета от обучающих признаков, сплиттинг на тренировочную и тестовую части:"
   ]
  },
  {
   "cell_type": "code",
   "execution_count": 38,
   "metadata": {},
   "outputs": [],
   "source": [
    "def targ_feat(data):\n",
    "    target = data['target']\n",
    "    features = data.drop(columns=['id', 'target'])\n",
    "    X_train, X_test, y_train, y_test = train_test_split(\n",
    "    features, target, test_size=0.25, random_state=RND_STATE, stratify=target)\n",
    "    return features, target, X_train, X_test, y_train, y_test"
   ]
  },
  {
   "cell_type": "code",
   "execution_count": 39,
   "metadata": {},
   "outputs": [
    {
     "name": "stdout",
     "output_type": "stream",
     "text": [
      "(702086, 676) (702086,) (526564, 676) (175522, 676) (526564,) (175522,)\n"
     ]
    }
   ],
   "source": [
    "features, target, X_train, X_test, y_train, y_test = targ_feat(df_merge_1)\n",
    "print(features.shape, target.shape, X_train.shape, X_test.shape, y_train.shape, y_test.shape)"
   ]
  },
  {
   "cell_type": "code",
   "execution_count": 40,
   "metadata": {
    "is_executing": true
   },
   "outputs": [],
   "source": [
    "# features.info()"
   ]
  },
  {
   "cell_type": "markdown",
   "metadata": {
    "collapsed": false,
    "jupyter": {
     "outputs_hidden": false
    }
   },
   "source": [
    "* Передача признаков конструктору Pool для обработки набора данных:"
   ]
  },
  {
   "cell_type": "code",
   "execution_count": 41,
   "metadata": {
    "is_executing": true
   },
   "outputs": [
    {
     "name": "stdout",
     "output_type": "stream",
     "text": [
      "CPU times: total: 15.6 ms\n",
      "Wall time: 15.6 ms\n"
     ]
    }
   ],
   "source": [
    "%%time\n",
    "eval_set = Pool(data=X_test, label=y_test)"
   ]
  },
  {
   "cell_type": "markdown",
   "metadata": {
    "collapsed": false,
    "jupyter": {
     "outputs_hidden": false
    }
   },
   "source": [
    "* Инициализация модели и подбор лучших признаков с удалением худших:"
   ]
  },
  {
   "cell_type": "code",
   "execution_count": 42,
   "metadata": {
    "is_executing": true
   },
   "outputs": [
    {
     "name": "stdout",
     "output_type": "stream",
     "text": [
      "CPU times: total: 15.6 ms\n",
      "Wall time: 28.1 ms\n"
     ]
    }
   ],
   "source": [
    "%%time\n",
    "CBC = CatBoostClassifier(\n",
    "    iterations=300,\n",
    "    loss_function='Logloss',\n",
    "    eval_metric='AUC:hints=skip_train~false',\n",
    "    task_type='GPU' if get_gpu_device_count() >= 1 else 'CPU',\n",
    "    devices='0:1',\n",
    "    scale_pos_weight=127,\n",
    "    random_seed=RND_STATE,\n",
    "    one_hot_max_size=10,\n",
    "    verbose=False\n",
    ")\n",
    "\n",
    "\n",
    "params = {'depth': [2, 3, 4, 5, 6, 7, 8, 9,10],\n",
    "          'learning_rate': [0.01, 0.02, 0.03, 0.04, 0.05]}"
   ]
  },
  {
   "cell_type": "code",
   "execution_count": 43,
   "metadata": {},
   "outputs": [],
   "source": [
    "# finding_best_params(X_test_6, y_test_6, X_train_6, y_train_6)"
   ]
  },
  {
   "cell_type": "code",
   "execution_count": 44,
   "metadata": {
    "scrolled": true
   },
   "outputs": [
    {
     "name": "stderr",
     "output_type": "stream",
     "text": [
      "Default metric period is 5 because AUC is/are not implemented for GPU\n",
      "Default metric period is 5 because AUC is/are not implemented for GPU\n",
      "Default metric period is 5 because AUC is/are not implemented for GPU\n",
      "Default metric period is 5 because AUC is/are not implemented for GPU\n",
      "Default metric period is 5 because AUC is/are not implemented for GPU\n",
      "Default metric period is 5 because AUC is/are not implemented for GPU\n",
      "Default metric period is 5 because AUC is/are not implemented for GPU\n",
      "Default metric period is 5 because AUC is/are not implemented for GPU\n",
      "Default metric period is 5 because AUC is/are not implemented for GPU\n",
      "Default metric period is 5 because AUC is/are not implemented for GPU\n",
      "Default metric period is 5 because AUC is/are not implemented for GPU\n",
      "Default metric period is 5 because AUC is/are not implemented for GPU\n",
      "Default metric period is 5 because AUC is/are not implemented for GPU\n",
      "Default metric period is 5 because AUC is/are not implemented for GPU\n",
      "Default metric period is 5 because AUC is/are not implemented for GPU\n",
      "Default metric period is 5 because AUC is/are not implemented for GPU\n",
      "Default metric period is 5 because AUC is/are not implemented for GPU\n",
      "Default metric period is 5 because AUC is/are not implemented for GPU\n",
      "Default metric period is 5 because AUC is/are not implemented for GPU\n",
      "Default metric period is 5 because AUC is/are not implemented for GPU\n",
      "Default metric period is 5 because AUC is/are not implemented for GPU\n",
      "Default metric period is 5 because AUC is/are not implemented for GPU\n",
      "Default metric period is 5 because AUC is/are not implemented for GPU\n",
      "Default metric period is 5 because AUC is/are not implemented for GPU\n",
      "Default metric period is 5 because AUC is/are not implemented for GPU\n",
      "Default metric period is 5 because AUC is/are not implemented for GPU\n",
      "Default metric period is 5 because AUC is/are not implemented for GPU\n",
      "Default metric period is 5 because AUC is/are not implemented for GPU\n",
      "Default metric period is 5 because AUC is/are not implemented for GPU\n",
      "Default metric period is 5 because AUC is/are not implemented for GPU\n",
      "Default metric period is 5 because AUC is/are not implemented for GPU\n",
      "Default metric period is 5 because AUC is/are not implemented for GPU\n",
      "Default metric period is 5 because AUC is/are not implemented for GPU\n",
      "Default metric period is 5 because AUC is/are not implemented for GPU\n",
      "Default metric period is 5 because AUC is/are not implemented for GPU\n",
      "Default metric period is 5 because AUC is/are not implemented for GPU\n",
      "Default metric period is 5 because AUC is/are not implemented for GPU\n",
      "Default metric period is 5 because AUC is/are not implemented for GPU\n",
      "Default metric period is 5 because AUC is/are not implemented for GPU\n",
      "Default metric period is 5 because AUC is/are not implemented for GPU\n",
      "Default metric period is 5 because AUC is/are not implemented for GPU\n",
      "Default metric period is 5 because AUC is/are not implemented for GPU\n",
      "Default metric period is 5 because AUC is/are not implemented for GPU\n",
      "Default metric period is 5 because AUC is/are not implemented for GPU\n",
      "Default metric period is 5 because AUC is/are not implemented for GPU\n",
      "Default metric period is 5 because AUC is/are not implemented for GPU\n",
      "Default metric period is 5 because AUC is/are not implemented for GPU\n",
      "Default metric period is 5 because AUC is/are not implemented for GPU\n",
      "Default metric period is 5 because AUC is/are not implemented for GPU\n",
      "Default metric period is 5 because AUC is/are not implemented for GPU\n",
      "Default metric period is 5 because AUC is/are not implemented for GPU\n",
      "Default metric period is 5 because AUC is/are not implemented for GPU\n",
      "Default metric period is 5 because AUC is/are not implemented for GPU\n",
      "Default metric period is 5 because AUC is/are not implemented for GPU\n",
      "Default metric period is 5 because AUC is/are not implemented for GPU\n",
      "Default metric period is 5 because AUC is/are not implemented for GPU\n",
      "Default metric period is 5 because AUC is/are not implemented for GPU\n",
      "Default metric period is 5 because AUC is/are not implemented for GPU\n",
      "Default metric period is 5 because AUC is/are not implemented for GPU\n",
      "Default metric period is 5 because AUC is/are not implemented for GPU\n",
      "Default metric period is 5 because AUC is/are not implemented for GPU\n",
      "Default metric period is 5 because AUC is/are not implemented for GPU\n",
      "Default metric period is 5 because AUC is/are not implemented for GPU\n",
      "Default metric period is 5 because AUC is/are not implemented for GPU\n",
      "Default metric period is 5 because AUC is/are not implemented for GPU\n",
      "Default metric period is 5 because AUC is/are not implemented for GPU\n",
      "Default metric period is 5 because AUC is/are not implemented for GPU\n",
      "Default metric period is 5 because AUC is/are not implemented for GPU\n",
      "Default metric period is 5 because AUC is/are not implemented for GPU\n",
      "Default metric period is 5 because AUC is/are not implemented for GPU\n",
      "Default metric period is 5 because AUC is/are not implemented for GPU\n",
      "Default metric period is 5 because AUC is/are not implemented for GPU\n",
      "Default metric period is 5 because AUC is/are not implemented for GPU\n",
      "Default metric period is 5 because AUC is/are not implemented for GPU\n",
      "Default metric period is 5 because AUC is/are not implemented for GPU\n",
      "Default metric period is 5 because AUC is/are not implemented for GPU\n",
      "Default metric period is 5 because AUC is/are not implemented for GPU\n",
      "Default metric period is 5 because AUC is/are not implemented for GPU\n",
      "Default metric period is 5 because AUC is/are not implemented for GPU\n",
      "Default metric period is 5 because AUC is/are not implemented for GPU\n",
      "Default metric period is 5 because AUC is/are not implemented for GPU\n",
      "Default metric period is 5 because AUC is/are not implemented for GPU\n",
      "Default metric period is 5 because AUC is/are not implemented for GPU\n",
      "Default metric period is 5 because AUC is/are not implemented for GPU\n",
      "Default metric period is 5 because AUC is/are not implemented for GPU\n",
      "Default metric period is 5 because AUC is/are not implemented for GPU\n",
      "Default metric period is 5 because AUC is/are not implemented for GPU\n",
      "Default metric period is 5 because AUC is/are not implemented for GPU\n",
      "Default metric period is 5 because AUC is/are not implemented for GPU\n",
      "Default metric period is 5 because AUC is/are not implemented for GPU\n",
      "Default metric period is 5 because AUC is/are not implemented for GPU\n"
     ]
    },
    {
     "name": "stdout",
     "output_type": "stream",
     "text": [
      "CPU times: total: 40min 14s\n",
      "Wall time: 13min 35s\n"
     ]
    },
    {
     "data": {
      "text/html": [
       "<style>#sk-container-id-1 {color: black;}#sk-container-id-1 pre{padding: 0;}#sk-container-id-1 div.sk-toggleable {background-color: white;}#sk-container-id-1 label.sk-toggleable__label {cursor: pointer;display: block;width: 100%;margin-bottom: 0;padding: 0.3em;box-sizing: border-box;text-align: center;}#sk-container-id-1 label.sk-toggleable__label-arrow:before {content: \"▸\";float: left;margin-right: 0.25em;color: #696969;}#sk-container-id-1 label.sk-toggleable__label-arrow:hover:before {color: black;}#sk-container-id-1 div.sk-estimator:hover label.sk-toggleable__label-arrow:before {color: black;}#sk-container-id-1 div.sk-toggleable__content {max-height: 0;max-width: 0;overflow: hidden;text-align: left;background-color: #f0f8ff;}#sk-container-id-1 div.sk-toggleable__content pre {margin: 0.2em;color: black;border-radius: 0.25em;background-color: #f0f8ff;}#sk-container-id-1 input.sk-toggleable__control:checked~div.sk-toggleable__content {max-height: 200px;max-width: 100%;overflow: auto;}#sk-container-id-1 input.sk-toggleable__control:checked~label.sk-toggleable__label-arrow:before {content: \"▾\";}#sk-container-id-1 div.sk-estimator input.sk-toggleable__control:checked~label.sk-toggleable__label {background-color: #d4ebff;}#sk-container-id-1 div.sk-label input.sk-toggleable__control:checked~label.sk-toggleable__label {background-color: #d4ebff;}#sk-container-id-1 input.sk-hidden--visually {border: 0;clip: rect(1px 1px 1px 1px);clip: rect(1px, 1px, 1px, 1px);height: 1px;margin: -1px;overflow: hidden;padding: 0;position: absolute;width: 1px;}#sk-container-id-1 div.sk-estimator {font-family: monospace;background-color: #f0f8ff;border: 1px dotted black;border-radius: 0.25em;box-sizing: border-box;margin-bottom: 0.5em;}#sk-container-id-1 div.sk-estimator:hover {background-color: #d4ebff;}#sk-container-id-1 div.sk-parallel-item::after {content: \"\";width: 100%;border-bottom: 1px solid gray;flex-grow: 1;}#sk-container-id-1 div.sk-label:hover label.sk-toggleable__label {background-color: #d4ebff;}#sk-container-id-1 div.sk-serial::before {content: \"\";position: absolute;border-left: 1px solid gray;box-sizing: border-box;top: 0;bottom: 0;left: 50%;z-index: 0;}#sk-container-id-1 div.sk-serial {display: flex;flex-direction: column;align-items: center;background-color: white;padding-right: 0.2em;padding-left: 0.2em;position: relative;}#sk-container-id-1 div.sk-item {position: relative;z-index: 1;}#sk-container-id-1 div.sk-parallel {display: flex;align-items: stretch;justify-content: center;background-color: white;position: relative;}#sk-container-id-1 div.sk-item::before, #sk-container-id-1 div.sk-parallel-item::before {content: \"\";position: absolute;border-left: 1px solid gray;box-sizing: border-box;top: 0;bottom: 0;left: 50%;z-index: -1;}#sk-container-id-1 div.sk-parallel-item {display: flex;flex-direction: column;z-index: 1;position: relative;background-color: white;}#sk-container-id-1 div.sk-parallel-item:first-child::after {align-self: flex-end;width: 50%;}#sk-container-id-1 div.sk-parallel-item:last-child::after {align-self: flex-start;width: 50%;}#sk-container-id-1 div.sk-parallel-item:only-child::after {width: 0;}#sk-container-id-1 div.sk-dashed-wrapped {border: 1px dashed gray;margin: 0 0.4em 0.5em 0.4em;box-sizing: border-box;padding-bottom: 0.4em;background-color: white;}#sk-container-id-1 div.sk-label label {font-family: monospace;font-weight: bold;display: inline-block;line-height: 1.2em;}#sk-container-id-1 div.sk-label-container {text-align: center;}#sk-container-id-1 div.sk-container {/* jupyter's `normalize.less` sets `[hidden] { display: none; }` but bootstrap.min.css set `[hidden] { display: none !important; }` so we also need the `!important` here to be able to override the default hidden behavior on the sphinx rendered scikit-learn.org. See: https://github.com/scikit-learn/scikit-learn/issues/21755 */display: inline-block !important;position: relative;}#sk-container-id-1 div.sk-text-repr-fallback {display: none;}</style><div id=\"sk-container-id-1\" class=\"sk-top-container\"><div class=\"sk-text-repr-fallback\"><pre>GridSearchCV(cv=2,\n",
       "             estimator=&lt;catboost.core.CatBoostClassifier object at 0x0000026FD5D480D0&gt;,\n",
       "             param_grid={&#x27;depth&#x27;: [2, 3, 4, 5, 6, 7, 8, 9, 10],\n",
       "                         &#x27;learning_rate&#x27;: [0.01, 0.02, 0.03, 0.04, 0.05]})</pre><b>In a Jupyter environment, please rerun this cell to show the HTML representation or trust the notebook. <br />On GitHub, the HTML representation is unable to render, please try loading this page with nbviewer.org.</b></div><div class=\"sk-container\" hidden><div class=\"sk-item sk-dashed-wrapped\"><div class=\"sk-label-container\"><div class=\"sk-label sk-toggleable\"><input class=\"sk-toggleable__control sk-hidden--visually\" id=\"sk-estimator-id-1\" type=\"checkbox\" ><label for=\"sk-estimator-id-1\" class=\"sk-toggleable__label sk-toggleable__label-arrow\">GridSearchCV</label><div class=\"sk-toggleable__content\"><pre>GridSearchCV(cv=2,\n",
       "             estimator=&lt;catboost.core.CatBoostClassifier object at 0x0000026FD5D480D0&gt;,\n",
       "             param_grid={&#x27;depth&#x27;: [2, 3, 4, 5, 6, 7, 8, 9, 10],\n",
       "                         &#x27;learning_rate&#x27;: [0.01, 0.02, 0.03, 0.04, 0.05]})</pre></div></div></div><div class=\"sk-parallel\"><div class=\"sk-parallel-item\"><div class=\"sk-item\"><div class=\"sk-label-container\"><div class=\"sk-label sk-toggleable\"><input class=\"sk-toggleable__control sk-hidden--visually\" id=\"sk-estimator-id-2\" type=\"checkbox\" ><label for=\"sk-estimator-id-2\" class=\"sk-toggleable__label sk-toggleable__label-arrow\">estimator: CatBoostClassifier</label><div class=\"sk-toggleable__content\"><pre>&lt;catboost.core.CatBoostClassifier object at 0x0000026FD5D480D0&gt;</pre></div></div></div><div class=\"sk-serial\"><div class=\"sk-item\"><div class=\"sk-estimator sk-toggleable\"><input class=\"sk-toggleable__control sk-hidden--visually\" id=\"sk-estimator-id-3\" type=\"checkbox\" ><label for=\"sk-estimator-id-3\" class=\"sk-toggleable__label sk-toggleable__label-arrow\">CatBoostClassifier</label><div class=\"sk-toggleable__content\"><pre>&lt;catboost.core.CatBoostClassifier object at 0x0000026FD5D480D0&gt;</pre></div></div></div></div></div></div></div></div></div></div>"
      ],
      "text/plain": [
       "GridSearchCV(cv=2,\n",
       "             estimator=<catboost.core.CatBoostClassifier object at 0x0000026FD5D480D0>,\n",
       "             param_grid={'depth': [2, 3, 4, 5, 6, 7, 8, 9, 10],\n",
       "                         'learning_rate': [0.01, 0.02, 0.03, 0.04, 0.05]})"
      ]
     },
     "execution_count": 44,
     "metadata": {},
     "output_type": "execute_result"
    }
   ],
   "source": [
    "%%time\n",
    "grid_CBC = GridSearchCV(estimator=CBC, param_grid = params, cv = 2)\n",
    "grid_CBC.fit(X_train, y_train, eval_set=eval_set)"
   ]
  },
  {
   "cell_type": "code",
   "execution_count": 45,
   "metadata": {},
   "outputs": [
    {
     "name": "stdout",
     "output_type": "stream",
     "text": [
      " Results from Grid Search \n",
      "\n",
      " The best estimator:\n",
      " <catboost.core.CatBoostClassifier object at 0x0000026FD76DC190>\n",
      "\n",
      " The best score :\n",
      " 0.7884074870291171\n",
      "\n",
      " The best parameters:\n",
      " {'depth': 10, 'learning_rate': 0.05}\n",
      "CPU times: total: 0 ns\n",
      "Wall time: 412 µs\n"
     ]
    }
   ],
   "source": [
    "%%time\n",
    "\n",
    "print(\" Results from Grid Search \" )\n",
    "print(\"\\n The best estimator:\\n\",grid_CBC.best_estimator_)\n",
    "print(\"\\n The best score :\\n\",grid_CBC.best_score_)\n",
    "print(\"\\n The best parameters:\\n\",grid_CBC.best_params_)"
   ]
  },
  {
   "cell_type": "markdown",
   "metadata": {},
   "source": [
    "#  1000 iters\n",
    "  # scale_pos_weight=127, - выключен:\n",
    "\n",
    "Results from Grid Search \n",
    "\n",
    " The best estimator:\n",
    " <catboost.core.CatBoostClassifier object at 0x000001DC5A0DC250>\n",
    "\n",
    " The best score :\n",
    " 0.9922098738235048\n",
    "\n",
    " The best parameters:\n",
    " {'depth': 2, 'learning_rate': 0.01}\n",
    "CPU times: total: 0 ns\n",
    "Wall\n",
    "\n",
    " # scale_pos_weight=127, - включен:\n",
    "Results from Grid Search \n",
    "\n",
    " The best estimator:\n",
    " <catboost.core.CatBoostClassifier object at 0x0000024149A6A6D0>\n",
    "\n",
    " The best score :\n",
    " 0.6000941955773658\n",
    "\n",
    " The best parameters:\n",
    " {'depth': 9, 'learning_rate': 0.01}\n",
    "CPU times: total: 0 ns\n",
    "Wall time: 0 ns\n",
    " time: 1 ms"
   ]
  },
  {
   "cell_type": "markdown",
   "metadata": {},
   "source": [
    "## 5. Выявление значимых признаков "
   ]
  },
  {
   "cell_type": "code",
   "execution_count": 46,
   "metadata": {},
   "outputs": [],
   "source": [
    "# %%time\n",
    "# # Достаем значимость объясняющих переменных\n",
    "# importances = grid_CBC.best_estimator_.feature_importances_\n",
    "\n",
    "# # Создаем датафрейм\n",
    "# data_tuples = list(zip(features.columns.tolist(), importances.tolist()))\n",
    "# feat_imp_df = pd.DataFrame(data_tuples, columns=['feature','importance'])\n",
    "# column_imp = feat_imp_df.sort_values(by = 'importance', ascending = False).head(68)\n",
    "\n",
    "\n",
    "# # column_fifth.to_csv (r'C:\\Users\\Natasha\\PycharmProjects\\yapr1-hackaton\\part_1_features.csv', index= False)\n"
   ]
  },
  {
   "cell_type": "code",
   "execution_count": 47,
   "metadata": {},
   "outputs": [],
   "source": [
    "# column_imp.feature.tolist()"
   ]
  },
  {
   "cell_type": "code",
   "execution_count": 48,
   "metadata": {},
   "outputs": [],
   "source": [
    "def get_list_imp():\n",
    "    importances = grid_CBC.best_estimator_.feature_importances_\n",
    "    data_tuples = list(zip(features.columns.tolist(), importances.tolist()))\n",
    "    df = pd.DataFrame(data_tuples, columns=['feature','importance'])\n",
    "    number = int((len(df)*0.1)+1)\n",
    "    imp_10_per = df.sort_values(by = 'importance', ascending = False).head(number)\n",
    "    list_imp_feat = imp_10_per.feature.tolist()\n",
    "    return list_imp_feat"
   ]
  },
  {
   "cell_type": "code",
   "execution_count": 49,
   "metadata": {},
   "outputs": [
    {
     "data": {
      "text/plain": [
       "68"
      ]
     },
     "execution_count": 49,
     "metadata": {},
     "output_type": "execute_result"
    }
   ],
   "source": [
    "list_imp_feat_1 = get_list_imp()\n",
    "len(list_imp_feat_1)"
   ]
  },
  {
   "cell_type": "code",
   "execution_count": 50,
   "metadata": {},
   "outputs": [],
   "source": [
    "# list_imp_feat_1"
   ]
  },
  {
   "cell_type": "code",
   "execution_count": 51,
   "metadata": {
    "is_executing": true
   },
   "outputs": [],
   "source": [
    "# imp_values = grid_CBC.best_estimator_.get_feature_importance(data=Pool(X_test, y_test))\n",
    "# pairs = sorted(\n",
    "#     zip(X_test.columns, imp_values),\n",
    "#     key=lambda x: x[1],\n",
    "# )"
   ]
  },
  {
   "cell_type": "code",
   "execution_count": 52,
   "metadata": {
    "is_executing": true
   },
   "outputs": [],
   "source": [
    "# imp_values.set_index('Value')\n",
    "# imp_values = imp_values.sort_values('Value', ascending=True)\n",
    "\n",
    "# imp_values[-20:].plot.barh(x='Features', color='blue')"
   ]
  },
  {
   "cell_type": "code",
   "execution_count": 53,
   "metadata": {},
   "outputs": [],
   "source": [
    "def preparing_features(PATH, butch):\n",
    "    list_columns_1, part_1 = load_parquet_data(PATH, butch)  \n",
    "    uninformative_lst_1 = uninform_data(part_1)\n",
    "    rdf_columns_1 = deleting_redefining_data(list_columns_1, uninformative_lst_1)\n",
    "    numeric_type_list_1, df_num_1 = load_parquet_num(PATH, rdf_columns_1)\n",
    "    cat_type_list_1, df_cat_1 = load_parquet_cat_str(PATH, rdf_columns_1)\n",
    "    # df_merge_1 = df_num_1\n",
    "    ## Если есть саt_фичи:\n",
    "    df_merge_1 = pd.merge(df_num_1, df_cat_1, left_index=True, right_index=True)\n",
    "    \n",
    "    features, target, X_train, X_test, y_train, y_test = targ_feat(df_merge_1)\n",
    "    return features, target, X_train, X_test, y_train, y_test\n",
    "    # print(features.shape, target.shape, X_train.shape, X_test.shape, y_train.shape, y_test.shape)"
   ]
  },
  {
   "cell_type": "code",
   "execution_count": 54,
   "metadata": {},
   "outputs": [],
   "source": [
    "#  %%time\n",
    "# list_columns_1, part_1 = load_parquet_data(PATH, data_columns[700:900])  \n",
    "# uninformative_lst_1 = uninform_data(part_1)\n",
    "# rdf_columns_1 = deleting_redefining_data(list_columns_1, uninformative_lst_1)\n",
    "# numeric_type_list_1, df_num_1 = load_parquet_num(PATH, rdf_columns_1)\n",
    "# cat_type_list_1, df_cat_1 = load_parquet_cat_str(PATH, rdf_columns_1)\n",
    "# # df_merge_1 = df_num_1\n",
    "# ## Если есть саt_фичи:\n",
    "# df_merge_1 = pd.merge(df_num_1, df_cat_1, left_index=True, right_index=True)\n",
    "\n",
    "# features, target, X_train, X_test, y_train, y_test = targ_feat(df_merge_1)\n",
    "# print(features.shape, target.shape, X_train.shape, X_test.shape, y_train.shape, y_test.shape)\n",
    "\n",
    "# eval_set = Pool(data=X_test, label=y_test)"
   ]
  },
  {
   "cell_type": "code",
   "execution_count": 55,
   "metadata": {},
   "outputs": [
    {
     "name": "stdout",
     "output_type": "stream",
     "text": [
      "(702086, 180) (702086,) (526564, 180) (175522, 180) (526564,) (175522,)\n"
     ]
    }
   ],
   "source": [
    "features, target, X_train, X_test, y_train, y_test = preparing_features(PATH, data_columns[700:900])\n",
    "print(features.shape, target.shape, X_train.shape, X_test.shape, y_train.shape, y_test.shape)"
   ]
  },
  {
   "cell_type": "code",
   "execution_count": 56,
   "metadata": {},
   "outputs": [
    {
     "data": {
      "text/plain": [
       "19"
      ]
     },
     "execution_count": 56,
     "metadata": {},
     "output_type": "execute_result"
    }
   ],
   "source": [
    "list_imp_feat_2 = get_list_imp()\n",
    "\n",
    "len(list_imp_feat_2)"
   ]
  },
  {
   "cell_type": "code",
   "execution_count": 57,
   "metadata": {},
   "outputs": [
    {
     "name": "stdout",
     "output_type": "stream",
     "text": [
      "(702086, 383) (702086,) (526564, 383) (175522, 383) (526564,) (175522,)\n"
     ]
    }
   ],
   "source": [
    "features, target, X_train, X_test, y_train, y_test = preparing_features(PATH, data_columns[900:1350])\n",
    "print(features.shape, target.shape, X_train.shape, X_test.shape, y_train.shape, y_test.shape)"
   ]
  },
  {
   "cell_type": "code",
   "execution_count": 58,
   "metadata": {},
   "outputs": [
    {
     "data": {
      "text/plain": [
       "39"
      ]
     },
     "execution_count": 58,
     "metadata": {},
     "output_type": "execute_result"
    }
   ],
   "source": [
    "list_imp_feat_3 = get_list_imp()\n",
    "len(list_imp_feat_3)"
   ]
  },
  {
   "cell_type": "code",
   "execution_count": 59,
   "metadata": {},
   "outputs": [
    {
     "name": "stdout",
     "output_type": "stream",
     "text": [
      "(702086, 279) (702086,) (526564, 279) (175522, 279) (526564,) (175522,)\n",
      "CPU times: total: 23.2 s\n",
      "Wall time: 10.4 s\n"
     ]
    }
   ],
   "source": [
    "%%time\n",
    "features, target, X_train, X_test, y_train, y_test = preparing_features(PATH, data_columns[1350:1800])\n",
    "print(features.shape, target.shape, X_train.shape, X_test.shape, y_train.shape, y_test.shape)"
   ]
  },
  {
   "cell_type": "code",
   "execution_count": 60,
   "metadata": {},
   "outputs": [
    {
     "name": "stdout",
     "output_type": "stream",
     "text": [
      "CPU times: total: 0 ns\n",
      "Wall time: 2 ms\n"
     ]
    },
    {
     "data": {
      "text/plain": [
       "28"
      ]
     },
     "execution_count": 60,
     "metadata": {},
     "output_type": "execute_result"
    }
   ],
   "source": [
    "%%time\n",
    "list_imp_feat_4 = get_list_imp()\n",
    "len(list_imp_feat_4)"
   ]
  },
  {
   "cell_type": "code",
   "execution_count": 61,
   "metadata": {},
   "outputs": [
    {
     "name": "stdout",
     "output_type": "stream",
     "text": [
      "(702086, 168) (702086,) (526564, 168) (175522, 168) (526564,) (175522,)\n",
      "CPU times: total: 15.7 s\n",
      "Wall time: 5.36 s\n"
     ]
    }
   ],
   "source": [
    "%%time\n",
    "features, target, X_train, X_test, y_train, y_test = preparing_features(PATH, data_columns[1800:2300])\n",
    "print(features.shape, target.shape, X_train.shape, X_test.shape, y_train.shape, y_test.shape)"
   ]
  },
  {
   "cell_type": "code",
   "execution_count": 62,
   "metadata": {},
   "outputs": [
    {
     "name": "stdout",
     "output_type": "stream",
     "text": [
      "CPU times: total: 0 ns\n",
      "Wall time: 1 ms\n"
     ]
    },
    {
     "data": {
      "text/plain": [
       "17"
      ]
     },
     "execution_count": 62,
     "metadata": {},
     "output_type": "execute_result"
    }
   ],
   "source": [
    "%%time\n",
    "list_imp_feat_5 = get_list_imp()\n",
    "len(list_imp_feat_5)"
   ]
  },
  {
   "cell_type": "code",
   "execution_count": 63,
   "metadata": {},
   "outputs": [
    {
     "name": "stdout",
     "output_type": "stream",
     "text": [
      "(702086, 368) (702086,) (526564, 368) (175522, 368) (526564,) (175522,)\n",
      "CPU times: total: 26.1 s\n",
      "Wall time: 11.1 s\n"
     ]
    }
   ],
   "source": [
    "%%time\n",
    "features, target, X_train, X_test, y_train, y_test = preparing_features(PATH, data_columns[2300:])\n",
    "print(features.shape, target.shape, X_train.shape, X_test.shape, y_train.shape, y_test.shape)"
   ]
  },
  {
   "cell_type": "code",
   "execution_count": 64,
   "metadata": {},
   "outputs": [
    {
     "name": "stdout",
     "output_type": "stream",
     "text": [
      "CPU times: total: 0 ns\n",
      "Wall time: 1 ms\n"
     ]
    },
    {
     "data": {
      "text/plain": [
       "37"
      ]
     },
     "execution_count": 64,
     "metadata": {},
     "output_type": "execute_result"
    }
   ],
   "source": [
    "%%time\n",
    "list_imp_feat_6 = get_list_imp()\n",
    "len(list_imp_feat_6)"
   ]
  },
  {
   "cell_type": "code",
   "execution_count": 65,
   "metadata": {},
   "outputs": [],
   "source": [
    "total_list = list_imp_feat_1 + list_imp_feat_2[1:]+list_imp_feat_3[1:]+ list_imp_feat_4[1:]+ list_imp_feat_5[1:] + list_imp_feat_6[1:]"
   ]
  },
  {
   "cell_type": "code",
   "execution_count": 67,
   "metadata": {},
   "outputs": [
    {
     "data": {
      "text/plain": [
       "203"
      ]
     },
     "execution_count": 67,
     "metadata": {},
     "output_type": "execute_result"
    }
   ],
   "source": [
    "len(total_list)"
   ]
  }
 ],
 "metadata": {
  "celltoolbar": "Отсутствует",
  "kernelspec": {
   "display_name": "Python 3 (ipykernel)",
   "language": "python",
   "name": "python3"
  },
  "language_info": {
   "codemirror_mode": {
    "name": "ipython",
    "version": 3
   },
   "file_extension": ".py",
   "mimetype": "text/x-python",
   "name": "python",
   "nbconvert_exporter": "python",
   "pygments_lexer": "ipython3",
   "version": "3.8.8"
  }
 },
 "nbformat": 4,
 "nbformat_minor": 4
}
